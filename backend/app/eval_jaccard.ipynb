{
 "cells": [
  {
   "cell_type": "code",
   "execution_count": 33,
   "metadata": {},
   "outputs": [
    {
     "name": "stdout",
     "output_type": "stream",
     "text": [
      "Precision:  0.44559884559884555\n"
     ]
    }
   ],
   "source": [
    "import pandas as pd\n",
    "from books import books\n",
    "from typing import List, Optional, Union\n",
    "from pydantic.dataclasses import dataclass\n",
    "\n",
    "\n",
    "@dataclass\n",
    "class Book:\n",
    "    bookId: str\n",
    "    bookTitle: str\n",
    "    author: Optional[str]\n",
    "    publisher: Optional[str]\n",
    "    year: int\n",
    "    cover: Optional[str]\n",
    "\n",
    "\n",
    "bookssample = [\n",
    "    Book(1, \"Harry Potter und der Stein der Weißen\", \"JK Rowling\", \"Harry Potter Verlag\", 1997, \"https://i.gr-assets.com/images/S/compressed.photo.goodreads.com/books/1170803558l/72193._SX120_SY180_.jpg\"),\n",
    "    Book(2, \"Harry Potter und die Kammer des Schreckens\", \"JK Rowling\", \"Harry Potter Verlag\", 1998, \"https://i.gr-assets.com/images/S/compressed.photo.goodreads.com/books/1474169725i/15881._SY180_.jpg\"),\n",
    "    Book(3, \"Harry Potter und der Gefangenge von Askerban\", \"JK Rowling\", \"Harry Potter Verlag\", 1999, \"https://i.gr-assets.com/images/S/compressed.photo.goodreads.com/books/1630547330i/5._SY180_.jpg\"),\n",
    "    Book(4, \"Harry Potter und der Feuerkelch\", \"JK Rowling\", \"Harry Potter Verlag\", 2000, \"https://i.gr-assets.com/images/S/compressed.photo.goodreads.com/books/1554006152i/6._SX120_.jpg\"),\n",
    "    Book(5, \"Harry Potter und der Orden des Phönix\", \"JK Rowling\", \"Harry Potter Verlag\", 2001, \"https://i.gr-assets.com/images/S/compressed.photo.goodreads.com/books/1660911061i/2._SY180_.jpg\"),\n",
    "    Book(6, \"Harry Potter und der Halbblutprinz\", \"JK Rowling\", \"Harry Potter Verlag\", 2002, \"https://i.gr-assets.com/images/S/compressed.photo.goodreads.com/books/1587697303i/1._SX120_.jpg\"),\n",
    "    Book(7, \"Harry Potter und die Heiligtümer des Todes\", \"JK Rowling\", \"Harry Potter Verlag\", 2003, \"https://i.gr-assets.com/images/S/compressed.photo.goodreads.com/books/1663805647i/136251._SY180_.jpg\"),\n",
    "]\n",
    "\n",
    "def jaccard (book1, book2):\n",
    "    author1 = set([book1.author])\n",
    "    author2 = set([book2.author])\n",
    "    title1 = set(book1.bookTitle.split(' '))\n",
    "    title2 = set(book2.bookTitle.split(' '))\n",
    "    publisher1 = set([book1.publisher])\n",
    "    publisher2 = set([book2.publisher])\n",
    "    year1 = set([book1.year])\n",
    "    year2 = set([book2.year])\n",
    "    \n",
    "    set1 = author1\n",
    "    set1 = set1.union(title1)\n",
    "    set1 = set1.union(year1)\n",
    "    set1 = set1.union(publisher1)\n",
    "\n",
    "    set2 = author2\n",
    "    set2 = set2.union(title2)\n",
    "    set2 = set2.union(year2)\n",
    "    set2 = set2.union(publisher2)\n",
    "\n",
    "    return len(set1.intersection(set2))/len(set2.union(set1))\n",
    "\n",
    "total_prec = 0\n",
    "\n",
    "for book in bookssample:\n",
    "    curr_prec = 0\n",
    "    for book2 in bookssample:\n",
    "        if book.bookId != book2.bookId:\n",
    "            curr_prec += jaccard(book, book2)\n",
    "    \n",
    "    total_prec += curr_prec/(len(bookssample)-1)\n",
    "\n",
    "print(\"Precision: \", total_prec/len(bookssample))\n"
   ]
  }
 ],
 "metadata": {
  "kernelspec": {
   "display_name": "Python 3",
   "language": "python",
   "name": "python3"
  },
  "language_info": {
   "codemirror_mode": {
    "name": "ipython",
    "version": 3
   },
   "file_extension": ".py",
   "mimetype": "text/x-python",
   "name": "python",
   "nbconvert_exporter": "python",
   "pygments_lexer": "ipython3",
   "version": "3.8.10 (default, Jun 22 2022, 20:18:18) \n[GCC 9.4.0]"
  },
  "orig_nbformat": 4,
  "vscode": {
   "interpreter": {
    "hash": "916dbcbb3f70747c44a77c7bcd40155683ae19c65e1c03b4aa3499c5328201f1"
   }
  }
 },
 "nbformat": 4,
 "nbformat_minor": 2
}
