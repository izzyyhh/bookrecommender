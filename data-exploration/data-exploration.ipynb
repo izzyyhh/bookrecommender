{
 "cells": [
  {
   "cell_type": "markdown",
   "metadata": {},
   "source": [
    "# Data Exploration"
   ]
  },
  {
   "cell_type": "code",
   "execution_count": 2,
   "metadata": {},
   "outputs": [
    {
     "name": "stdout",
     "output_type": "stream",
     "text": [
      "Requirement already satisfied: pandas in c:\\users\\leeen\\anaconda3\\lib\\site-packages (1.4.2)\n",
      "Requirement already satisfied: pytz>=2020.1 in c:\\users\\leeen\\anaconda3\\lib\\site-packages (from pandas) (2021.3)\n",
      "Requirement already satisfied: python-dateutil>=2.8.1 in c:\\users\\leeen\\anaconda3\\lib\\site-packages (from pandas) (2.8.2)\n",
      "Requirement already satisfied: numpy>=1.18.5 in c:\\users\\leeen\\anaconda3\\lib\\site-packages (from pandas) (1.21.5)\n",
      "Requirement already satisfied: six>=1.5 in c:\\users\\leeen\\anaconda3\\lib\\site-packages (from python-dateutil>=2.8.1->pandas) (1.16.0)\n",
      "Note: you may need to restart the kernel to use updated packages.\n",
      "Requirement already satisfied: matplotlib in c:\\users\\leeen\\anaconda3\\lib\\site-packages (3.5.1)\n",
      "Requirement already satisfied: python-dateutil>=2.7 in c:\\users\\leeen\\anaconda3\\lib\\site-packages (from matplotlib) (2.8.2)\n",
      "Requirement already satisfied: pillow>=6.2.0 in c:\\users\\leeen\\anaconda3\\lib\\site-packages (from matplotlib) (9.0.1)\n",
      "Requirement already satisfied: cycler>=0.10 in c:\\users\\leeen\\anaconda3\\lib\\site-packages (from matplotlib) (0.11.0)\n",
      "Requirement already satisfied: kiwisolver>=1.0.1 in c:\\users\\leeen\\anaconda3\\lib\\site-packages (from matplotlib) (1.3.2)\n",
      "Requirement already satisfied: pyparsing>=2.2.1 in c:\\users\\leeen\\anaconda3\\lib\\site-packages (from matplotlib) (3.0.4)\n",
      "Requirement already satisfied: numpy>=1.17 in c:\\users\\leeen\\anaconda3\\lib\\site-packages (from matplotlib) (1.21.5)\n",
      "Requirement already satisfied: fonttools>=4.22.0 in c:\\users\\leeen\\anaconda3\\lib\\site-packages (from matplotlib) (4.25.0)\n",
      "Requirement already satisfied: packaging>=20.0 in c:\\users\\leeen\\anaconda3\\lib\\site-packages (from matplotlib) (21.3)\n",
      "Requirement already satisfied: six>=1.5 in c:\\users\\leeen\\anaconda3\\lib\\site-packages (from python-dateutil>=2.7->matplotlib) (1.16.0)\n",
      "Note: you may need to restart the kernel to use updated packages.\n"
     ]
    }
   ],
   "source": [
    "# Install packages.\n",
    "\n",
    "%pip install pandas\n",
    "%pip install matplotlib"
   ]
  },
  {
   "cell_type": "code",
   "execution_count": 3,
   "metadata": {},
   "outputs": [],
   "source": [
    "# Dependencies.\n",
    "\n",
    "import pandas as pd\n",
    "import matplotlib.pyplot as plt"
   ]
  },
  {
   "cell_type": "code",
   "execution_count": 4,
   "metadata": {},
   "outputs": [],
   "source": [
    "# Load Data.\n",
    "\n",
    "books = pd.read_csv('../data/BX-Books.csv', sep=\";\", dtype=str, encoding=\"CP1252\", escapechar='\\\\')\n",
    "ratings = pd.read_csv('../data/BX-Book-Ratings.csv', sep=';', converters = {'user': int, 'isbn': str, 'rating': float} , encoding=\"CP1252\")\n",
    "users = pd.read_csv('../data/BX-Users.csv', sep=\";\", converters = {\"User-ID\": str,\"Location\":str,\"Age\": str}, encoding=\"CP1252\", escapechar='\\\\')"
   ]
  },
  {
   "cell_type": "code",
   "execution_count": 5,
   "metadata": {},
   "outputs": [
    {
     "name": "stdout",
     "output_type": "stream",
     "text": [
      "Ratings Distribution: \n",
      "0.0     651330\n",
      "8.0      95037\n",
      "10.0     71814\n",
      "7.0      70018\n",
      "9.0      62101\n",
      "5.0      46953\n",
      "6.0      33753\n",
      "4.0       8031\n",
      "3.0       5445\n",
      "2.0       2492\n",
      "1.0       1601\n",
      "Name: rating, dtype: int64\n",
      "\n",
      "Mean Rating: 7.601852760890634\n"
     ]
    }
   ],
   "source": [
    "# Ratings Analysis.\n",
    "\n",
    "ratings_distribution = ratings.loc[:,\"rating\"].value_counts()\n",
    "\n",
    "x = ratings['user'].value_counts(ascending=False)[:20]\n",
    "mean_rating = ratings['rating'].where(lambda x : x != 0).mean() # 7.601852\n",
    "\n",
    "print(\"Ratings Distribution: \\n{}\".format(ratings_distribution))\n",
    "print(\"\\nMean Rating: {}\".format(mean_rating))"
   ]
  },
  {
   "cell_type": "code",
   "execution_count": 6,
   "metadata": {},
   "outputs": [
    {
     "name": "stdout",
     "output_type": "stream",
     "text": [
      "\n",
      "Number of Users with Age != Null: 167680\n",
      "Users Max Age: 244\n",
      "Users Min Age: 1\n",
      "Users Age with Most Frequency: 24    5687\n",
      "Name: Age, dtype: int64\n"
     ]
    }
   ],
   "source": [
    "# User Analysis.\n",
    "\n",
    "nr_users_with_age = sum(cnt > 0 for cnt in users[\"Age\"].apply(lambda x: int(x) if x != 'NULL' else 0) ) # 167680\n",
    "user_age_without_null = users['Age'].where(lambda x: x != \"NULL\").dropna()\n",
    "\n",
    "user_age_groups = user_age_without_null.value_counts()\n",
    "\n",
    "min = 1000\n",
    "max = 0\n",
    "for age in user_age_without_null:\n",
    "    if age != \"NULL\" and age != \"0\":\n",
    "        if int(age) > 0 and int(age) < min:\n",
    "            min = int(age)\n",
    "        if(int(age) > 0 and int(age) > max):\n",
    "            max = int(age)\n",
    "\n",
    "print(\"\\nNumber of Users with Age != Null: {}\".format(nr_users_with_age))\n",
    "print(\"Users Max Age: {}\".format(max))\n",
    "print(\"Users Min Age: {}\".format(min))\n",
    "print(\"Users Age with Most Frequency: {}\".format(user_age_groups.head(1)))\n",
    "\n"
   ]
  },
  {
   "cell_type": "code",
   "execution_count": 15,
   "metadata": {},
   "outputs": [
    {
     "data": {
      "image/png": "[encoded data removed]",
      "text/plain": [
       "<Figure size 432x288 with 1 Axes>"
      ]
     },
     "metadata": {
      "needs_background": "light"
     },
     "output_type": "display_data"
    }
   ],
   "source": [
    "# Plot User Distribution.\n",
    "\n",
    "plt.xticks([0, 25, 50, 75, 100,  ]) #[0, 15, 30, 45, 60, 75, 90, 105, 120, 145, 160, 185, 205]\n",
    "plt.hist(users['Age'].where(lambda x: x != \"NULL\").dropna(), bins=25)\n",
    "plt.xlabel('Age Groups')\n",
    "plt.ylabel('Frequency')\n",
    "plt.show()"
   ]
  }
 ],
 "metadata": {
  "kernelspec": {
   "display_name": "Python 3.9.12 ('base')",
   "language": "python",
   "name": "python3"
  },
  "language_info": {
   "codemirror_mode": {
    "name": "ipython",
    "version": 3
   },
   "file_extension": ".py",
   "mimetype": "text/x-python",
   "name": "python",
   "nbconvert_exporter": "python",
   "pygments_lexer": "ipython3",
   "version": "3.9.12"
  },
  "orig_nbformat": 4,
  "vscode": {
   "interpreter": {
    "hash": "77adcc06a7ce072b5ae6e66b8f31091aa3085a8d3f0353ac416f5d9144c88769"
   }
  }
 },
 "nbformat": 4,
 "nbformat_minor": 2
}
