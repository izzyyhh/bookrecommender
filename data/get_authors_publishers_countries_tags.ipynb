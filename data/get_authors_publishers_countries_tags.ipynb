{
 "cells": [
  {
   "cell_type": "code",
   "execution_count": 12,
   "metadata": {},
   "outputs": [
    {
     "name": "stdout",
     "output_type": "stream",
     "text": [
      "['Agatha Christie', 'Aimee Thurlo', 'Alan Dean Foster', 'Albert Camus', 'Alfred Hitchcock', 'Alice Walker', 'Alistair Maclean', 'Anais Nin', 'Andre Norton', 'Andrea Camilleri', 'Andrew M. Greeley', 'Ann M. Martin', 'Anne Mather', 'Anne Mcallister', 'Anne Mccaffrey', 'Anne Perry', 'Anne Rice', 'Anne Stuart', 'Annette Broadrick', 'Anthony Trollope', 'Arlene James', 'Arnette Lamb', 'Arthur C. Clarke', 'Arthur Conan Doyle', 'Arthur Conan, Sir Doyle', 'Arthur Upfield', 'Astrid Lindgren', 'Author Unknown', 'Avi', 'Barbara Boswell', 'Barbara Bretton', 'Barbara Cartland', 'Barbara Delinsky', 'Barbara Hambly', 'Barbara Michaels', 'Barbara Park', 'Barbara Wood', 'Beatrix Potter', 'Ben Bova', 'Ben M. Baglio', 'Bernard Cornwell', 'Bertrice Small', 'Bethany Campbell', 'Betsy Byars', 'Betsy Haynes', 'Better Homes And Gardens', 'Betty Crocker', 'Betty Neels', 'Beverly Cleary', 'Bill Pronzini', 'Bodie Thoene', 'Bonnie Bryant', 'Bruce Coville', 'C. J. Cherryh', 'C. S. Lewis', 'C.J. Cherryh', 'Cait London', 'Carla Cassidy', 'Carol Finch', 'Carole Mortimer', 'Carole Nelson Douglas', 'Caroline B. Cooney', 'Carolyn Keene', 'Cassie Edwards', 'Catherine Cookson', 'Catherine Coulter', 'Catherine George', 'Cathy Gillen Thacker', 'Cathy Guisewite', 'Charles Bukowski', 'Charles De Lint', 'Charles Dickens', 'Charles M. Schulz', 'Charles R. Swindoll', 'Charles Sheffield', 'Charlotte Lamb', 'Charlotte Macleod', 'Chelsea Quinn Yarbro', 'Cherie Bennett', 'Christian Jacq', 'Christine Rimmer', 'Christopher Golden', 'Christopher Pike', 'Christopher Stasheff', 'Clamp', 'Clive Cussler', 'Connie Mason', 'Constance Obanyon', 'Dallas Schulze', 'Dana Fuller Ross', 'Dana Stabenow', 'Danielle Steel', 'Dav Pilkey', 'Dave Duncan', 'David A. Adler', 'David Drake', 'David Eddings', 'David Lodge', 'David P. Jordan', 'David Weber', 'Dean Koontz', 'Dean R. Koontz', 'Dean Wesley Smith', 'Debbie Dadey', 'Debbie Macomber', 'Deepak Chopra', 'Diana G. Gallagher', 'Diana Palmer', 'Diana Wynne Jones', 'Diane Carey', 'Diane Duane', 'Diane Hoh', 'Dick Francis', 'Dick King-Smith', 'Dick Stivers', 'Disney Enterprises Inc', 'Dixie Browning', 'Don Coldsmith', 'Don Pendleton', 'Donald E. Westlake', 'Donald J. Sobol', 'Doris Lessing', 'Doris May Lessing', 'Dorling Kindersley Publishing', 'Dorothy Garlock', 'Douglas Adams', 'Ed Mcbain', 'Edgar Allan Poe', 'Edward Packard', 'Elaine Barbieri', 'Elizabeth Bevarly', 'Elizabeth George', 'Elizabeth Levy', 'Elizabeth Lowell', 'Elizabeth Peters', 'Ellen Small', 'Ellis Peters', 'Elmore Leonard', 'Emile Zola', 'Emilie Richards', 'Emily Chase', 'Emma Darcy', 'Emma Goldrick', 'Enid Blyton', 'Erle Stanley Gardner', 'Erma Bombeck', 'Ernest Hemingway', 'Esther Friesner', 'Eve Bunting', 'F. Paul Wilson', 'F. Scott Fitzgerald', 'Fay Weldon', 'Faye Kellerman', 'Fern Michaels', 'Fodors', 'Francine Pascal', 'Franklin W. Dixon', 'Franz Kafka', 'Fred Saberhagen', 'Frederik Pohl', 'Fyodor Dostoyevsky', 'Gabriel Garcia Marquez', 'Gail Herman', 'Gardner Dozois', 'Gary Paulsen', 'Gene Wolfe', 'George Macdonald', 'Georges Simenon', 'Georgette Heyer', 'Gerald Durrell', 'Gertrude Chandler Warner', 'Gilbert Morris', 'Gina Wilkins', 'Golden Books', 'Gordon Korman', 'Gordon R. Dickson', 'Grace Livingston Hill', 'Graham Greene', 'Graham Masterton', 'Greg Bear', 'Gregory Benford', 'H. G. Wells', 'Harlan Ellison', 'Harold Robbins', 'Harriet Ziefert', 'Harry Harrison', 'Harry Turtledove', 'Heather Graham', 'Helen Exley', 'Helene Siegel', 'Henning Mankell', 'Henry James', 'Herge', 'Hermann Hesse', 'Honor Books', 'Ian Rankin', 'Iris Johansen', 'Isaac Asimov', 'Isaac Bashevis Singer', 'Isabel Allende', 'Italo Calvino', 'J. K. Rowling', 'J. R. R. Tolkien', 'J.R.R. Tolkien', 'Jack Canfield', 'Jack Higgins', 'Jack Kerouac', 'Jack L. Chalker', 'Jack London', 'Jackie Merritt', 'Jake Logan', 'James A. Michener', 'James Axler', 'James Howe', 'James Patterson', 'Jamie Suzanne', 'Jane Austen', 'Jane Belk Moncure', 'Jane Yolen', 'Janelle Taylor', 'Janet Dailey', 'Janet Evanovich', 'Janet Quin-Harkin', 'Janet Woods', 'Janette Oke', 'Janice Kaiser', 'Jasmine Cresswell', 'Jayne Ann Krentz', 'Jean Marzollo', 'Jean Plaidy', 'Jeanne Betancourt', 'Jeffrey Archer', 'Jennifer Blake', 'Jennifer Greene', 'Jerry B. Jenkins', 'Jessica Steele', 'Jill Shalvis', 'Jim Davis', 'Jim Wilson', 'Joan Aiken', 'Joan Hess', 'Joan Hohl', 'Joan Johnston', 'Joan Lowery Nixon', 'Joan Smith', 'Joanna Cole', 'Johann Wolfgang Von Goethe', 'Johanna Lindsey', 'John D. Macdonald', 'John Gardner', 'John Gray', 'John Grisham', 'John Irving', 'John Le Carre', 'John Peel', 'John Saul', 'John Steinbeck', 'John Updike', 'Jonathan Kellerman', 'Jorge Luis Borges', 'Jose Saramago', 'Joseph Conrad', 'Joyce Carol Oates', 'Jude Deveraux', 'Judy Blume', 'Judy Christenberry', 'Jules Verne', 'Justine Korman', 'K. A. Applegate', 'Karen Robards', 'Kasey Michaels', 'Kate Wilhelm', 'Kate William', 'Katherine Applegate', 'Katherine Kurtz', 'Kathleen Eagle', 'Kay Hooper', 'Kelli M. Gary', 'Ken Follett', 'Kevin J. Anderson', 'Kinky Friedman', 'L. E. Modesitt Jr.', 'L. Frank Baum', 'L. Ron Hubbard', 'Landoll', 'Larry Mcmurtry', 'Larry Niven', 'Laurie Paige', 'Lawrence Block', 'Lawrence Sanders', 'Leigh Greenwood', 'Lemony Snicket', 'Len Deighton', 'Lilian Jackson Braun', 'Linda Howard', 'Linda Lael Miller', 'Lindsay Armstrong', 'Lindsay Mckenna', 'Lisa Jackson', 'Lois Gladys Leppard', 'Lois Lowry', 'Loren D. Estleman', 'Lori Copeland', 'Lori Foster', 'Louis Lamour', 'Louisa May Alcott', 'Lucy Gordon', 'Lurlene Mcdaniel', 'Lydia Adamson', 'Lynn Erickson', 'Lynne Graham', 'M. C. Beaton', 'Madeleine Lengle', 'Madeline Baker', 'Maeve Binchy', 'Maggie Shayne', 'Marc Brown', 'Marcia Muller', 'Margaret Atwood', 'Margaret Way', 'Margaret Weis', 'Margery Allingham', 'Marguerite Duras', 'Marie Ferrarella', 'Marilyn Kaye', 'Marilyn Pappano', 'Mario Vargas Llosa', 'Marion Chesney', 'Marion Zimmer Bradley', 'Mark Stevens', 'Mark Twain', 'Martha Grimes', 'Martin H. Greenberg', 'Mary Balogh', 'Mary Daheim', 'Mary Engelbreit', 'Mary Higgins Clark', 'Mary Lynn Baxter', 'Mary Pope Osborne', 'Mary-Kate Amp; Ashley Olsen', 'Matt Christopher', 'Max Allan Collins', 'Max Brand', 'Max Lucado', 'Mel Odom', 'Mercedes Lackey', 'Mercer Mayer', 'Merline Lovelace', 'Michael A. Stackpole', 'Michael Jan Friedman', 'Michael Moorcock', 'Michael Phillips', 'Michael Teitelbaum', 'Michaela Muntean', 'Mike Resnick', 'Milan Kundera', 'Miranda Lee', 'Mouse Works', 'Muriel Jensen', 'Naoko Takeuchi', 'Nathaniel Hawthorne', 'Neil Gaiman', 'Ngaio Marsh', 'Nora Roberts', 'Norman Bridwell', 'Not Applicable (Na )', 'Orson Scott Card', 'Oscar Wilde', 'Outlet', 'P. D. James', 'P. G. Wodehouse', 'P.G. Wodehouse', 'Pablo Neruda', 'Patricia Cornwell', 'Patricia Highsmith', 'Patricia Reilly Giff', 'Patricia Rosemoor', 'Patricia Wentworth', 'Patrick Obrian', 'Paul Auster', 'Paul Theroux', 'Paul Zindel', 'Paulette Bourgeois', 'Paulo Coelho', 'Pearl S. Buck', 'Penny Jordan', 'Peter David', 'Philip Jose Farmer', 'Philip K. Dick', 'Philip Roth', 'Phyllis A. Whitney', 'Phyllis Reynolds Naylor', 'Piers Anthony', 'Poul Anderson', 'R. A. Salvatore', 'R. L. Stine', 'R.L. Stine', 'Rachel Lee', 'Rainer Maria Rilke', 'Ray Bradbury', 'Readers Digest', 'Rebecca Brandewyne', 'Rebecca Winters', 'Rebecca York', 'Reginald Hill', 'Rex Stout', 'Richard Laymon', 'Richard Scarry', 'Rita Mae Brown', 'Roald Dahl', 'Robert A. Heinlein', 'Robert B. Parker', 'Robert Barnard', 'Robert Jordan', 'Robert Louis Stevenson', 'Robert Ludlum', 'Robert Rankin', 'Robert Silverberg', 'Robin Cook', 'Robin Jones Gunn', 'Robyn Donald', 'Roger Hargreaves', 'Roger Zelazny', 'Rosamunde Pilcher', 'Rudyard Kipling', 'Rumiko Takahashi', 'Ruth Langan', 'Ruth Rendell', 'Sally Wentworth', 'Sandra Brown', 'Sandra Field', 'Sandra Marton', 'Sara Craven', 'Sara Orwig', 'Sara Wood', 'Scholastic Books', 'Scott Adams', 'Sharon Sala', 'Sherryl Woods', 'Sidney Sheldon', 'Simon Brett', 'Simon Hawke', 'Simone De Beauvoir', 'Spike Milligan', 'Stan Berenstain', 'Stanislaw Lem', 'Stella Cameron', 'Stephen Cosgrove', 'Stephen King', 'Stephen R. Donaldson', 'Steve Jackson', 'Steve Perry', 'Stuart M. Kaminsky', 'Stuart Woods', 'Sue Grafton', 'Sunset Books', 'Susan Johnson', 'Susan Mallery', 'Susan Saunders', 'Susan Wiggs', 'Suzanne Brockmann', 'Suzanne Weyn', 'Tabor Evans', 'Tamora Pierce', 'Tanith Lee', 'Terry Brooks', 'Terry Pratchett', 'Thomas Mann', 'Thomas Merton', 'Tim Lahaye', 'Time Life Books', 'Time-Life Books', 'Tisha Hamilton', 'Todd Strasser', 'Tom Clancy', 'Tom Sharpe', 'Tom Smith', 'Tony Abbott', 'Tracey West', 'Umberto Eco', 'Unknown', 'Ursula K. Le Guin', 'V. C. Andrews', 'V.C. Andrews', 'Valerie Tripp', 'Vicki Lewis Thompson', 'Victoria Holt', 'Victoria Pade', 'Virginia Woolf', 'W. E. B. Griffin', 'Walt Disney', 'Walt Disney Productions', 'Walter Dean Myers', 'Walter Mosley', 'Warren Murphy', 'William Shakespeare', 'William Shatner', 'William W. Johnstone', 'Wolfgang Hohlbein', 'Zane Grey']\n"
     ]
    }
   ],
   "source": [
    "# Get list of  authors\n",
    "import pandas as pd\n",
    "import csv\n",
    "\n",
    "books = pd.read_csv('./BX-Books-cleaned-final.csv', sep=\";\", dtype=str, encoding=\"iso-8859-1\", escapechar='\\\\', na_filter=False)\n",
    "\n",
    "authors = books['Book-Author'].value_counts().sort_values(ascending=False)\n",
    "\n",
    "author_dict = {'Authors': authors.index[:100]}  \n",
    "    \n",
    "df = pd.DataFrame(author_dict)\n",
    "\n",
    "df.to_csv('./auhors.csv', index=False, header=True, quoting=csv.QUOTE_ALL, sep=';')\n",
    "\n",
    "print(sorted(authors[:500].index.tolist()))"
   ]
  },
  {
   "cell_type": "code",
   "execution_count": 11,
   "metadata": {},
   "outputs": [
    {
     "name": "stdout",
     "output_type": "stream",
     "text": [
      "['1Stbooks Library', 'Ace Books', 'Actes Sud', 'Adams Media Corporation', 'Addison Wesley Publishing Company', 'Addison-Wesley', 'Addison-Wesley Pub Co', 'Aladdin', 'Albert Whitman  Company', 'Albin Michel', 'Alfred A. Knopf', 'Algonquin Books Of Chapel Hill', 'Alianza', 'Alpha Books', 'Alyson Publications', 'Anagrama', 'Anchor', 'Anchor Books/Doubleday', 'Andrews Mcmeel Pub', 'Andrews Mcmeel Publishing', 'Apple', 'Arcade Publishing', 'Arrow (A Division Of Random House Group)', 'Aspect', 'Atheneum', 'Atlantic Monthly Press', 'Atria', 'Atria Books', 'Audio Literature', 'Aufbau Tb', 'Augsburg Fortress Publishers', 'Authorhouse', 'Avery Publishing Group', 'Avon', 'Avon Books', 'Back Bay Books', 'Baen', 'Baker Book House', 'Baker Pub Group', 'Ballantine Books', 'Bantam', 'Bantam Books', 'Bantam Books (Mm)', 'Bantam Dell Pub Group', 'Bantam Doubleday Dell', 'Barbour Publishing', 'Barnes Noble Books', 'Barrons Educational Series', 'Barrons Educational Series Inc', 'Basic Books', 'Beacon Press', 'Beltz', 'Berkley Pub Group', 'Berkley Pub Group (Mm)', 'Berkley Publishing Group', 'Bertelsmann, Mnchen', 'Bethany House Publishers', 'Blackwell Publishers', 'Bloomsbury Publishing Plc', 'Book Sales', 'Bookthrift Co', 'Broadman  Holman Publishers', 'Broadway', 'Broadway Books', 'Btb', 'Btb Bei Goldmann', 'Cambridge University Press', 'Candlewick Press (Ma)', 'Carol Publishing Corporation', 'Carroll  Graf Publishers', 'Cartwheel Books', 'Celestial Arts', 'Chronicle Books', 'Chronicle Books Llc', 'Citadel Press', 'Clarion Books', 'Clarkson N Potter Publishers', 'Cliffs Notes', 'Collins', 'Columbia University Press', 'Conari Press', 'Concordia Publishing House', 'Consortium Book Sales  Dist', 'Cook Communications Ministries Intl', 'Counterpoint Press', 'Course Technology', 'Crescent', 'Crown Publishers', 'Crown Publishing Group (Ny)', 'Da Capo Press', 'Dark Horse Comics', 'David R. Godine Publisher', 'Daw Books', 'Dc Comics', 'Del Rey', 'Del Rey Books', 'Delacorte Press', 'Dell', 'Dell Publishing', 'Dell Publishing Company', 'Delta', 'Denol', 'Dial Books', 'Diamond/Charter', 'Diogenes', 'Diogenes Verlag', 'Disney Press', 'Distribooks', 'Distribooks Inc', 'Dk Publishing Inc', 'Dorling Kindersley', 'Dorling Kindersley Publishing', 'Doubleday', 'Doubleday Books', 'Dover Publications', 'Dover Pubns', 'Droemer Knaur', 'Droemersche Verlagsanstalt Th. Knaur Nachf., Gmbh  Co.', 'Dtv', 'Dutton Books', 'E.D.C. Publishing', 'Ecco', 'Ediciones B', 'Editions 10/18', 'Editions 84', 'Egmont Childrens Books', 'Einaudi', 'Eos', 'F  W Pubns', 'Faber  Faber', 'Faber And Faber Ltd', 'Facts On File', 'Farrar Straus  Giroux', 'Farrar Straus Giroux', 'Farrar, Straus And Giroux', 'Farrar, Straus And Giroux (Byr)', 'Fawcett', 'Fawcett Books', 'Feltrinelli', 'Firefly Books Ltd', 'Fireside', 'Fischer (Tb.), Frankfurt', 'Five Star (Me)', 'Flammarion', 'Fodors Travel Publications', 'For Dummies', 'Forge', 'Forge Books', 'Free Press', 'Gallimard', 'Globe Pequot', 'Globe Pequot Pr', 'Gold Eagle', 'Golden Books', 'Goldencraft', 'Goldmann', 'Gramercy', 'Gramercy Books', 'Grosset  Dunlap', 'Grove Press', 'Harcourt', 'Harcourt Childrens Books', 'Harlequin', 'Harlequin Books', 'Harlequin Mills  Boon Ltd', 'Harper  Row', 'Harper Mass Market Paperbacks', 'Harper Mass Market Paperbacks (Mm)', 'Harperaudio', 'Harperbusiness', 'Harpercollins', 'Harpercollins Childrens Books', 'Harpercollins Juvenile Books', 'Harpercollins Publishers', 'Harperentertainment', 'Harperfestival', 'Harperresource', 'Harpersanfrancisco', 'Harpertorch', 'Harpertrophy', 'Harry N Abrams', 'Harry N Abrams Inc', 'Harvard University Press', 'Harvest Books', 'Harvest House Pub', 'Harvest House Publishers', 'Hay House', 'Hazelden Publishing  Educational Services', 'Headline', 'Health Communications', 'Heinemann', 'Henry Holt  Co', 'Henry Holt  Company', 'Heyne', 'Hodder  Stoughton General Division', 'Holiday House', 'Houghton Mifflin', 'Houghton Mifflin Co', 'Houghton Mifflin Company', 'House Of Stratus', 'Hyperion', 'Hyperion Books', 'Hyperion Books For Children', 'I Books', 'Independent Pub Group', 'Indiana University Press', 'Intervarsity Press', 'Intl Specialized Book Service Inc', 'Iuniverse', 'Ivy Books', 'Jai Lu', 'Jeremy P. Tarcher', 'John Wiley  Sons', 'John Wiley  Sons Inc', 'Johns Hopkins University Press', 'Jossey-Bass', 'Jove Books', 'Judy Piatkus Publishers Ltd', 'Kensington Pub Corp (Mm)', 'Kensington Publishing Corporation', 'Kiepenheuer  Witsch', 'Knopf', 'Kodansha America', 'Landoll', 'Laure Leaf', 'Laurel Leaf', 'Laurel-Leaf Books', 'Lbbe', 'Le Livre De Poche', 'Lectorum Pubns (J)', 'Leisure Arts', 'Leisure Books', 'Lgf', 'Little Apple', 'Little Brown  Co', 'Little Brown And Company', 'Little Simon', 'Little, Brown', 'Livre De Poche', 'Llewellyn Publications', 'Llewellyn Pubns', 'Lonely Planet', 'Lonely Planet Publications', 'Love Spell', 'Loveswept', 'Macmillan', 'Macmillan Computer Pub', 'Macmillan General Reference', 'Macmillan Publishing Company.', 'Main Street Books', 'Mandarin', 'Mariner Books', 'Mcclelland  Stewart', 'Mcgraw-Hill', 'Mcgraw-Hill Companies', 'Mcgraw-Hill Humanities/Social Sciences/Languages', 'Mcgraw-Hill Osborne Media', 'Mcgraw-Hill Trade', 'Mcgraw-Hill/Contemporary Books', 'Meredith Books', 'Methuen Publishing Ltd', 'Microsoft Press', 'Mira', 'Mira Books', 'Miramax', 'Mjf Books', 'Modern Library', 'Moody Pr', 'Moody Publishers', 'Multnomah', 'Mysterious Press', 'National Geographic', 'Natl Book Network', 'Nelson Books', 'New Amer Library', 'New Amer Library (Mm)', 'New American Library', 'New Directions Publishing Corporation', 'Not Avail', 'Ntc/Contemporary Publishing Company', 'Onyx Books', 'Orb Books', 'Oreilly', 'Orion', 'Orion Publishing Co', 'Overlook Press', 'Owl Books (Ny)', 'Oxford Univ Pr', 'Oxford University Press', 'Oxmoor House', 'Pages Publishing Group', 'Palgrave Macmillan', 'Pan Books Ltd', 'Pan Macmillan', 'Pantheon Books', 'Paulist Press', 'Pearson Education', 'Penguin', 'Penguin Books', 'Penguin Books Ltd', 'Penguin Putnam', 'Penguin Putnammass', 'Penguin Putnamtrade', 'Penguin Uk', 'Penguin Usa', 'Perennial', 'Perennial Currents', 'Perigee Books', 'Perseus Books Group', 'Perseus Publishing', 'Philipp Reclam, Jun Verlag Gmbh', 'Picador', 'Picador Usa', 'Pinnacle Books', 'Pinnacle Books (Mm)', 'Piper', 'Planeta', 'Planeta Pub Corp', 'Plaza  Janes Editores, S.A.', 'Pleasant Company Publications', 'Plume Books', 'Pocket', 'Pocket Books', 'Pocket Star', 'Poisoned Pen Press', 'Prentice Hall', 'Prentice Hall Art', 'Prentice Hall Ptr', 'Prentice-Hall', 'Price Stern Sloan', 'Price Stern Sloan Pub (J)', 'Prima Lifestyles', 'Prime Crime', 'Princeton University Press', 'Prometheus Books', 'Pub Group West', 'Publicaffairs', 'Publications International', 'Publishamerica', 'Puffin Books', 'Putnam Pub Group', 'Putnam Publishing Group', 'Que', 'Quill', 'Random House', 'Random House Books For Young Readers', 'Random House Childrens Books', 'Random House Childrens Pub', 'Random House Inc', 'Random House Trade', 'Random House Trade Paperbacks', 'Random House Value Pub', 'Random House Value Publishing', 'Readers Digest', 'Readers Digest Association', 'Regan Books', 'Regnery Publishing', 'Revell', 'Riverhead Books', 'Roc', 'Rodale Books', 'Rodale Press', 'Rough Guides Limited', 'Routledge', 'Rowohlt Tb.', 'Running Press Book Publishers', 'Rutledge Hill Press', 'Sagebrush Bound', 'Sams', 'Scherz', 'Scholastic', 'Scholastic Inc', 'Scholastic Library Pub', 'Scholastic Paperbacks', 'Scholastic Paperbacks (Mm)', 'Scholastic Paperbacks (T)', 'Scribner', 'Scribner Paper Fiction', 'Seal Press (Wa)', 'Serpents Tail', 'Seuil', 'Shambhala', 'Signet Book', 'Signet Classics', 'Silhouette', 'Silhouette Books', 'Simon  Schuster', 'Simon  Schuster (Trade Division)', 'Simon  Schuster Audio', 'Simon  Schuster Childrens Publishing', 'Simon  Schuster Merchandise ', 'Simon Pulse', 'Simon Spotlight', 'Simon Spotlight Entertainment', 'Simon Spotlight/Nickelodeon', 'Skylark', 'Skylark Books', 'Smithmark Pub', 'Smithmark Publishers', 'Soho Press', 'Sourcebooks', 'Spectra Books', 'St Martins Pr', 'St Martins Pr (Mm)', 'St. Martins Griffin', 'St. Martins Minotaur', 'St. Martins Paperbacks', 'St. Martins Press', 'Star Trek', 'Starfire', 'Steeple Hill', 'Sterling Pub Co Inc', 'Sterling Publishing', 'Stoddart', 'Storey Books', 'Suhrkamp', 'Sweet Valley', 'Sybex Inc', 'Ten Speed Pr', 'Ten Speed Press', 'Tfh Publications', 'Thames  Hudson', 'The Lyons Press', 'Thomas Dunne Books', 'Thomas Nelson', 'Thomas Nelson Inc', 'Thomson Learning', 'Thorndike Pr', 'Thorndike Press', 'Thorsons Publishers', 'Three Rivers Press', 'Three Rivers Press (Ca)', 'Time Warner Books Uk', 'Time-Life Books', 'Times Books', 'Tokyopop', 'Topaz', 'Tor Books', 'Tor Books (Mm)', 'Tor Fantasy', 'Tor Science Fiction', 'Touchstone', 'Trafalgar Square', 'Trafalgar Square Publishing', 'Transworld Publishers Ltd', 'Troll Communications', 'Troll Communications Llc', 'Tsr', 'Tusquets', 'Tuttle Publishing', 'Tyndale House Pub', 'Tyndale House Publishers', 'Ullstein Buchverlage Gmbh  Co. Kg / Ullstein Tas', 'Ullstein Tb', 'Ulverscroft Large Print', 'University Of California Press', 'University Of Chicago Press', 'University Of Nebraska Press', 'Viking', 'Viking Books', 'Viking Press', 'Villard Books', 'Vintage', 'Vintage Books', 'Vintage Books Usa', 'Virgin Books', 'Viz Communications', 'Viz Llc', 'W Publishing Group', 'W W Norton  Co Inc', 'W. W. Norton  Company', 'W.W. Norton  Company', 'Wadsworth Publishing', 'Walker  Company', 'Walker Books', 'Warner Books', 'Warner Books (Mm)', 'Warner Books Inc', 'Washington Square Press', 'Waterbrook Press', 'Watson-Guptill Publications', 'Weiser Books', 'Westbow Press', 'Western Pub. Co', 'White Wolf Pub', 'Wiley', 'William Morrow', 'William Morrow  Company', 'Wizards Of The Coast', 'Workman Publishing', 'Worldwide Library', 'Writers Club Press', 'Writers Digest Books', 'Xlibris Corporation', 'Yale University Press', 'Yearling', 'Yearling Books', 'Zebra Books', 'Zondervan', 'Zondervan Publishing Company']\n"
     ]
    }
   ],
   "source": [
    "# Get list of publishers \n",
    "import pandas as pd\n",
    "import csv\n",
    "\n",
    "books = pd.read_csv('./BX-Books-cleaned-final.csv', sep=\";\", dtype=str, encoding=\"iso-8859-1\", escapechar='\\\\', na_filter=False)\n",
    "\n",
    "publishers = books['Publisher'].value_counts().sort_values(ascending=False)\n",
    "\n",
    "publisher_dict = {'Publishers': publishers.index[:100]}       \n",
    "df = pd.DataFrame(publisher_dict)\n",
    "\n",
    "df.to_csv('./publishers.csv', index=False, header=True, quoting=csv.QUOTE_ALL, sep=';')\n",
    "\n",
    "\n",
    "print(sorted(publishers[:500].index.tolist()))\n"
   ]
  },
  {
   "cell_type": "code",
   "execution_count": 6,
   "metadata": {},
   "outputs": [
    {
     "name": "stdout",
     "output_type": "stream",
     "text": [
      "['usa', 'spain', 'united kingdom', 'canada', 'germany', 'australia', 'italy', 'france', 'portugal', 'new zealand', '', 'brazil', 'netherlands', 'switzerland', 'china', 'argentina', 'india', 'austria', 'belgium', 'mexico', 'malaysia', 'finland', 'sweden', 'singapore', 'philippines', 'ireland', 'turkey', 'denmark', 'poland', 'iran', 'chile', 'greece', 'pakistan', 'romania', 'indonesia', 'israel', 'south africa', 'norway', 'nigeria', 'slovakia', 'croatia', 'japan', 'peru', 'costa rica', 'russia', 'czech republic', 'venezuela', 'colombia', 'yugoslavia', 'hong kong', 'england, united kingdom', 'egypt', 'south korea', 'bulgaria', 'vietnam', 'taiwan', 'luxembourg', 'slovenia', 'thailand', 'united arab emirates', 'hungary', 'ghana', 'saudi arabia', 'espaÃ±a', 'andorra', 'bosnia and herzegovina', 'sri lanka', 'bangladesh', 'guatemala', 'lithuania', 'cuba', 'ecuador', 'panama', 'la france', 'california, usa', 'ukraine', 'dominican republic', 'bolivia', 'morocco', 'trinidad and tobago', 'urugua', 'iceland', 'jamaica', 'algeria', 'kuwait', 'el salvador', 'latvia', 'malta', 'lebanon', 'new york, usa', 'albania', 'afghanistan', 'texas, usa', 'cyprus', 'macedonia', 'uruguay', 'jordan', 'paraguay', 'kenya', 'nepal', 'burma', 'brunei', 'mauritius', 'belize', 'barbados', 'qatar', 'bahamas', 'iraq', 'zimbabwe', 'new south wales, australia', 'british columbia, canada', 'uzbekistan', 'england', 'honduras', 'dc, usa', 'bahrain', 'virginia, usa', 'ontario, canada', 'florida, usa', 'oman', 'syria', 'grenada', 'scotland', 'nicaragua', 'catalunya', 'n/a, philippines', 'victoria, australia', 'jersey', 'sudan', 'bermuda', 'belarus', 'cote d`ivoire', 'n/a, united kingdom', 'georgia', 'ohio, usa', 'estonia', 'euskal herria', 'l`italia', 'fiji', 'ethiopia', 'oregon, usa', 'catalonia', 'kazakhstan', 'deutschland', 'wales, united kingdom', 'scotland, united kingdom', 'illinois, usa', 'michigan, usa', 'mozambique', 'queensland, australia', 'washington, usa', 'moldova', 'united states', 'yemen', 'spain, spain', 'benin', 'cameroon', 'botswana', 'brasil', 'guernsey', 'new jersey, usa', 'wales', 'italia', 'indiana, usa', 'la argentina', 'guyana', 'antigua and barbuda', 'iowa, usa', 'tunisia', 'armenia', 'missouri, usa', 'galiza', 'puerto rico', 'monaco', 'maryland, usa', 'gabon', 'uganda', 'dominica', 'pennsylvania, usa', 'uk, united kingdom', 'eritrea', 'espaÃ£Â±a', 'togo', 'china, china', 'Ã¶Ã°Â¹Ãº', 'n/a, mexico', 'n/a, new zealand', 'alderney', 'catalunya, spain', 'papua new guinea', ', portugal', 'alberta, canada', 'espaÃ£?Ã¢Â±a', 'colorado, usa', 'n/a', 'western australia, australia', 'cambodia', 'massachusetts, usa', 'minnesota, usa', 'angola']\n"
     ]
    }
   ],
   "source": [
    "# Get list of publishers and authors\n",
    "import pandas as pd\n",
    "import csv\n",
    "\n",
    "users = pd.read_csv('./BX-User-cleaned.csv', sep=\";\", dtype=str, encoding=\"iso-8859-1\", escapechar='\\\\', na_filter=False)\n",
    "\n",
    "countries = users['Country'].value_counts().sort_values(ascending=False)\n",
    "\n",
    "countries_dict = {'Countries': countries.index}  \n",
    "   \n",
    "df = pd.DataFrame(countries_dict)\n",
    "\n",
    "\n",
    "df.to_csv('./countries.csv', index=False, header=True, quoting=csv.QUOTE_ALL, sep=';')\n",
    "\n",
    "print(countries.index[:200].tolist())\n"
   ]
  },
  {
   "cell_type": "code",
   "execution_count": 24,
   "metadata": {},
   "outputs": [
    {
     "ename": "TypeError",
     "evalue": "unhashable type: 'slice'",
     "output_type": "error",
     "traceback": [
      "\u001b[0;31m---------------------------------------------------------------------------\u001b[0m",
      "\u001b[0;31mTypeError\u001b[0m                                 Traceback (most recent call last)",
      "\u001b[0;32m<ipython-input-24-603db2998229>\u001b[0m in \u001b[0;36m<module>\u001b[0;34m\u001b[0m\n\u001b[1;32m     43\u001b[0m \u001b[0;34m\u001b[0m\u001b[0m\n\u001b[1;32m     44\u001b[0m \u001b[0mdf\u001b[0m\u001b[0;34m.\u001b[0m\u001b[0mto_csv\u001b[0m\u001b[0;34m(\u001b[0m\u001b[0;34m'./tags_sorted.csv'\u001b[0m\u001b[0;34m,\u001b[0m \u001b[0mindex\u001b[0m\u001b[0;34m=\u001b[0m\u001b[0;32mFalse\u001b[0m\u001b[0;34m,\u001b[0m \u001b[0mheader\u001b[0m\u001b[0;34m=\u001b[0m\u001b[0;32mTrue\u001b[0m\u001b[0;34m,\u001b[0m \u001b[0mquoting\u001b[0m\u001b[0;34m=\u001b[0m\u001b[0mcsv\u001b[0m\u001b[0;34m.\u001b[0m\u001b[0mQUOTE_ALL\u001b[0m\u001b[0;34m,\u001b[0m \u001b[0msep\u001b[0m\u001b[0;34m=\u001b[0m\u001b[0;34m';'\u001b[0m\u001b[0;34m)\u001b[0m\u001b[0;34m\u001b[0m\u001b[0;34m\u001b[0m\u001b[0m\n\u001b[0;32m---> 45\u001b[0;31m \u001b[0mprint\u001b[0m\u001b[0;34m(\u001b[0m\u001b[0mtags_sorted\u001b[0m\u001b[0;34m[\u001b[0m\u001b[0;34m:\u001b[0m\u001b[0;36m1000\u001b[0m\u001b[0;34m]\u001b[0m\u001b[0;34m)\u001b[0m\u001b[0;34m\u001b[0m\u001b[0;34m\u001b[0m\u001b[0m\n\u001b[0m",
      "\u001b[0;31mTypeError\u001b[0m: unhashable type: 'slice'"
     ]
    }
   ],
   "source": [
    "# Get list of  authors\n",
    "import pandas as pd\n",
    "import csv\n",
    "\n",
    "books = pd.read_csv('./BX-Books-cleaned-final-tags.csv', sep=\";\", dtype=str, encoding=\"iso-8859-1\", escapechar='\\\\', na_filter=False)\n",
    "\n",
    "all_tags = []\n",
    "for idx in books.index:\n",
    "    tags = books[\"Tags\"][idx]\n",
    "    tags_splitted = tags.strip('\\'][\\'').split('\\', \\'')[0].split(',')\n",
    "    for tag in tags_splitted:\n",
    "\n",
    "        if len(tag) < 2:\n",
    "            continue\n",
    "\n",
    "        all_tags.append(tag)\n",
    "\n",
    "all_unique_tags = set(all_tags)\n",
    "# print(all_unique_tags)\n",
    "\n",
    "tags_counting = {}\n",
    "\n",
    "for idx in books.index:\n",
    "    tags = books[\"Tags\"][idx]\n",
    "    tags_splitted = tags.strip('\\'][\\'').split('\\', \\'')[0].split(',')\n",
    "    for tag in tags_splitted:\n",
    "\n",
    "        if len(tag) < 2 or tag == \"General\":\n",
    "            continue\n",
    "        \n",
    "        if tag in tags_counting:\n",
    "            tags_counting[tag] = tags_counting[tag] + 1\n",
    "        else:\n",
    "            tags_counting[tag] = 1\n",
    "\n",
    "# print(tags_counting)\n",
    "tags_sorted = dict(sorted(tags_counting.items(), key=lambda x:x[1], reverse=True))\n",
    "tags_sorted_keys = tags_sorted.keys()\n",
    "\n",
    "tags_sorted_dict = {\"Tags\": tags_sorted.keys(), \"Count\": tags_sorted.values()}\n",
    "df = pd.DataFrame(tags_sorted_dict)\n",
    "\n",
    "\n",
    "df.to_csv('./tags_sorted.csv', index=False, header=True, quoting=csv.QUOTE_ALL, sep=';')\n",
    "print(tags_sorted.keys()[:1000])\n"
   ]
  }
 ],
 "metadata": {
  "kernelspec": {
   "display_name": "Python 3",
   "language": "python",
   "name": "python3"
  },
  "language_info": {
   "codemirror_mode": {
    "name": "ipython",
    "version": 3
   },
   "file_extension": ".py",
   "mimetype": "text/x-python",
   "name": "python",
   "nbconvert_exporter": "python",
   "pygments_lexer": "ipython3",
   "version": "3.8.10"
  },
  "orig_nbformat": 4,
  "vscode": {
   "interpreter": {
    "hash": "916dbcbb3f70747c44a77c7bcd40155683ae19c65e1c03b4aa3499c5328201f1"
   }
  }
 },
 "nbformat": 4,
 "nbformat_minor": 2
}
