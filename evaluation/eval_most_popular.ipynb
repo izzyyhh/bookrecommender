{
  "cells": [
    {
      "cell_type": "code",
      "execution_count": 3,
      "metadata": {
        "kernelspec": {
          "display_name": "Python 3",
          "language": "python",
          "name": "python3"
        },
        "language_info": {
          "codemirror_mode": {
            "name": "ipython",
            "version": 3
          },
          "file_extension": ".py",
          "mimetype": "text/x-python",
          "name": "python",
          "nbconvert_exporter": "python",
          "pygments_lexer": "ipython3",
          "version": "3.8.10"
        },
        "orig_nbformat": 4
      },
      "outputs": [
        {
          "name": "stdout",
          "output_type": "stream",
          "text": [
            "len:  65\n",
            "Precision:  0.0014736855769637218\n",
            "Recall:  0.01508688529585272\n"
          ]
        }
      ],
      "source": [
        "import pandas as pd\n",
        "import os\n",
        "\n",
        "\n",
        "ratings = pd.read_csv('../data/BX-Book-Ratings-cleaned.csv', sep=';', converters = {'user': int, 'isbn': str, 'rating': float} , encoding=\"CP1252\")\n",
        "books = pd.read_csv(os.path.abspath('') + '/../backend/app/books/MostLeastPopular.csv', sep=\",\", encoding=\"CP1252\")\n",
        "books = books.values.tolist()\n",
        "user_ratings = {}\n",
        "grouped = ratings.groupby('user')\n",
        "# take second element for sort\n",
        "def takeSecond(elem):\n",
        "    return elem[1]\n",
        "\n",
        "for user, g_rate in grouped:\n",
        "    vals = list(map(lambda x: [x[1], x[2]],g_rate.values.tolist()))\n",
        "    vals = list(filter(lambda x: x[1] > 0,vals))\n",
        "    vals.sort(key=takeSecond, reverse=True)\n",
        "    meanrating = 0\n",
        "    if(len(vals)>0):\n",
        "        meanrating = sum(list(map(lambda x: x[1], vals)))/len(vals)\n",
        "    amountrel = len(list(filter(lambda x: x[1] > meanrating, vals) ))\n",
        "    user_ratings[user] = [vals, meanrating, amountrel]\n",
        "\n",
        "total_prec = 0\n",
        "total_recall = 0\n",
        "\n",
        "for user, item in user_ratings.items():\n",
        "    ratings = item[0]\n",
        "    mean = item[1]\n",
        "    totalrel = item[2]\n",
        "    tp = 0\n",
        "    fp = 0\n",
        "    for rating in ratings:\n",
        "        for book in books:\n",
        "            if book[0] == rating[0] and rating[1]>mean:\n",
        "                tp += 1\n",
        "            if book[0] == rating[0] and rating[1]<=mean:\n",
        "                fp += 1\n",
        "    total_prec += tp/len(books)\n",
        "\n",
        "    if(totalrel > 0):\n",
        "        total_recall += tp/totalrel\n",
        "\n",
        "print(\"len: \", len(books))\n",
        "print(\"Precision: \", total_prec/len(user_ratings))\n",
        "print(\"Recall: \", total_recall/len(user_ratings))\n"
      ]
    },
    {
      "cell_type": "code",
      "execution_count": 4,
      "metadata": {},
      "outputs": [
        {
          "name": "stdout",
          "output_type": "stream",
          "text": [
            "ndcg 0.2610353210675939\n"
          ]
        }
      ],
      "source": [
        "import math\n",
        "total_prec = 0\n",
        "total_recall = 0\n",
        "\n",
        "totalndcg = 0\n",
        "\n",
        "\n",
        "usertps = {}\n",
        "\n",
        "for user, item in list(user_ratings.items()):\n",
        "    ratings = item[0]\n",
        "    tp = []\n",
        "    for rating in ratings:\n",
        "        for idx, book in enumerate(books):\n",
        "            if book[0] == rating[0] and rating[1]>mean:\n",
        "                tp.append([rating, idx])\n",
        "    if(len(ratings) > 1):\n",
        "        usertps[user] = tp\n",
        "\n",
        "        \n",
        "test = {\n",
        "    \"a\": [\n",
        "        [['059035342X', 10.0], 2],\n",
        "        [['059035342X', 10.0], 3],\n",
        "        [['059035342X', 10.0], 4],\n",
        "    ]\n",
        "}\n",
        "\n",
        "\n",
        "totalndcg = []\n",
        "for user, tplist in usertps.items():\n",
        "    dcg = 0\n",
        "    idcg = 0\n",
        "    for ind, item in enumerate(tplist):\n",
        "        if(item[1] >= 2):\n",
        "            dcg += 1/math.log2(item[1])\n",
        "    for ind in range(1, len(tplist)):\n",
        "        idcg += 1/math.log2(ind+1)\n",
        "\n",
        "    if(len(tplist)>0):\n",
        "        idcg += 1\n",
        "        totalndcg.append(dcg/idcg)\n",
        "        \n",
        "to = 0\n",
        "for item in totalndcg:\n",
        "    to += item\n",
        "\n",
        "if(len(totalndcg) > 0):\n",
        "    print(\"ndcg\", to/len(totalndcg))\n",
        "else:\n",
        "    print(\"no tps\")\n",
        "\n"
      ]
    },
    {
      "cell_type": "code",
      "execution_count": null,
      "metadata": {},
      "outputs": [],
      "source": []
    }
  ],
  "metadata": {
    "kernelspec": {
      "display_name": "Python 3",
      "language": "python",
      "name": "python3"
    },
    "language_info": {
      "codemirror_mode": {
        "name": "ipython",
        "version": 3
      },
      "file_extension": ".py",
      "mimetype": "text/x-python",
      "name": "python",
      "nbconvert_exporter": "python",
      "pygments_lexer": "ipython3",
      "version": "3.8.10"
    },
    "orig_nbformat": 4,
    "vscode": {
      "interpreter": {
        "hash": "916dbcbb3f70747c44a77c7bcd40155683ae19c65e1c03b4aa3499c5328201f1"
      }
    }
  },
  "nbformat": 4,
  "nbformat_minor": 2
}
