{
 "cells": [
  {
   "cell_type": "code",
   "execution_count": 6,
   "metadata": {},
   "outputs": [
    {
     "name": "stdout",
     "output_type": "stream",
     "text": [
      "Requirement already satisfied: scikit-learn in /home/stefan/.local/lib/python3.8/site-packages (1.2.0)\n",
      "Requirement already satisfied: numpy>=1.17.3 in /home/stefan/.local/lib/python3.8/site-packages (from scikit-learn) (1.22.2)\n",
      "Requirement already satisfied: threadpoolctl>=2.0.0 in /home/stefan/.local/lib/python3.8/site-packages (from scikit-learn) (3.1.0)\n",
      "Requirement already satisfied: scipy>=1.3.2 in /home/stefan/.local/lib/python3.8/site-packages (from scikit-learn) (1.8.0)\n",
      "Requirement already satisfied: joblib>=1.1.1 in /home/stefan/.local/lib/python3.8/site-packages (from scikit-learn) (1.2.0)\n",
      "Note: you may need to restart the kernel to use updated packages.\n",
      "Requirement already satisfied: cython in /home/stefan/.local/lib/python3.8/site-packages (0.29.32)\n",
      "Note: you may need to restart the kernel to use updated packages.\n",
      "Requirement already satisfied: pandas in /home/stefan/.local/lib/python3.8/site-packages (1.5.1)\n",
      "Requirement already satisfied: numpy>=1.20.3; python_version < \"3.10\" in /home/stefan/.local/lib/python3.8/site-packages (from pandas) (1.22.2)\n",
      "Requirement already satisfied: pytz>=2020.1 in /home/stefan/.local/lib/python3.8/site-packages (from pandas) (2022.5)\n",
      "Requirement already satisfied: python-dateutil>=2.8.1 in /home/stefan/.local/lib/python3.8/site-packages (from pandas) (2.8.2)\n",
      "Requirement already satisfied: six>=1.5 in /home/stefan/.local/lib/python3.8/site-packages (from python-dateutil>=2.8.1->pandas) (1.16.0)\n",
      "Note: you may need to restart the kernel to use updated packages.\n",
      "Requirement already satisfied: numpy in /home/stefan/.local/lib/python3.8/site-packages (1.22.2)\n",
      "Note: you may need to restart the kernel to use updated packages.\n",
      "Requirement already satisfied: rankfm in /home/stefan/.local/lib/python3.8/site-packages (0.2.5)\n",
      "Requirement already satisfied: pandas>=0.24 in /home/stefan/.local/lib/python3.8/site-packages (from rankfm) (1.5.1)\n",
      "Requirement already satisfied: numpy>=1.15 in /home/stefan/.local/lib/python3.8/site-packages (from rankfm) (1.22.2)\n",
      "Requirement already satisfied: pytz>=2020.1 in /home/stefan/.local/lib/python3.8/site-packages (from pandas>=0.24->rankfm) (2022.5)\n",
      "Requirement already satisfied: python-dateutil>=2.8.1 in /home/stefan/.local/lib/python3.8/site-packages (from pandas>=0.24->rankfm) (2.8.2)\n",
      "Requirement already satisfied: six>=1.5 in /home/stefan/.local/lib/python3.8/site-packages (from python-dateutil>=2.8.1->pandas>=0.24->rankfm) (1.16.0)\n",
      "Note: you may need to restart the kernel to use updated packages.\n"
     ]
    }
   ],
   "source": [
    "# python 3.8 required!\n",
    "%pip install scikit-learn\n",
    "%pip install cython\n",
    "%pip install pandas\n",
    "%pip install numpy\n",
    "%pip install rankfm\n",
    "\n",
    "from rankfm.rankfm import RankFM\n",
    "from rankfm.evaluation import (discounted_cumulative_gain, diversity, hit_rate,\n",
    "                               precision, recall, reciprocal_rank)\n",
    "from pandas import DataFrame\n",
    "import pandas as pd\n",
    "import numpy as np\n",
    "from sklearn.model_selection import StratifiedKFold\n",
    "import pickle"
   ]
  },
  {
   "cell_type": "code",
   "execution_count": 7,
   "metadata": {},
   "outputs": [],
   "source": [
    "\"\"\"\n",
    "global vars\n",
    "\"\"\"\n",
    "rating_converter = {\n",
    "    'user': int,\n",
    "    'isbn': str,\n",
    "    'rating': float\n",
    "}\n",
    "\n",
    "reader_config = {\n",
    "    'encoding': 'utf-8',\n",
    "    'separator': ';',\n",
    "}\n",
    "\n",
    "ratings = pd.read_csv('../data/BX-Book-Ratings-cleaned.csv', sep=reader_config['separator'], converters=rating_converter, encoding=reader_config['encoding'])\n",
    "mean_rating = ratings.loc[ratings['rating'] > 0]['rating'].mean()\n",
    "mean_rating_per_user = ratings.loc[ratings['rating'] > 0].select_dtypes(include=['int64', 'float64']).groupby('user').mean()\n",
    "user_features = pickle.load(open(\"user_features\", \"rb\"))\n",
    "book_features = pickle.load(open(\"book_features\", \"rb\"))\n",
    "\n",
    "def good_ratings_and_implicit_filter(group):\n",
    "    avg_rating = group['rating'].mean()\n",
    "    \n",
    "    return group.loc[(group['rating'] >= avg_rating) | (group['rating'].eq(0))]\n"
   ]
  },
  {
   "cell_type": "code",
   "execution_count": 11,
   "metadata": {},
   "outputs": [
    {
     "name": "stderr",
     "output_type": "stream",
     "text": [
      "/home/stefan/.local/lib/python3.8/site-packages/sklearn/model_selection/_split.py:700: UserWarning: The least populated class in y has only 1 members, which is less than n_splits=2.\n",
      "  warnings.warn(\n"
     ]
    },
    {
     "name": "stdout",
     "output_type": "stream",
     "text": [
      "Fold 0:\n"
     ]
    },
    {
     "name": "stderr",
     "output_type": "stream",
     "text": [
      "/tmp/ipykernel_10891/1456118734.py:59: SettingWithCopyWarning: \n",
      "A value is trying to be set on a copy of a slice from a DataFrame.\n",
      "Try using .loc[row_indexer,col_indexer] = value instead\n",
      "\n",
      "See the caveats in the documentation: https://pandas.pydata.org/pandas-docs/stable/user_guide/indexing.html#returning-a-view-versus-a-copy\n",
      "  train_user_features.loc[:,\"Age\"] /= train_user_features[\"Age\"].max()\n",
      "/tmp/ipykernel_10891/1456118734.py:61: FutureWarning: In a future version, the Index constructor will not infer numeric dtypes when passed object-dtype sequences (matching Series behavior)\n",
      "  train_book_features.loc[:,\"bf_1\"] /= train_book_features['bf_1'].max()\n",
      "/tmp/ipykernel_10891/1456118734.py:61: SettingWithCopyWarning: \n",
      "A value is trying to be set on a copy of a slice from a DataFrame.\n",
      "Try using .loc[row_indexer,col_indexer] = value instead\n",
      "\n",
      "See the caveats in the documentation: https://pandas.pydata.org/pandas-docs/stable/user_guide/indexing.html#returning-a-view-versus-a-copy\n",
      "  train_book_features.loc[:,\"bf_1\"] /= train_book_features['bf_1'].max()\n"
     ]
    },
    {
     "name": "stdout",
     "output_type": "stream",
     "text": [
      "fitting...\n",
      "validating...\n"
     ]
    },
    {
     "ename": "ValueError",
     "evalue": "too many values to unpack (expected 2)",
     "output_type": "error",
     "traceback": [
      "\u001b[0;31m---------------------------------------------------------------------------\u001b[0m",
      "\u001b[0;31mValueError\u001b[0m                                Traceback (most recent call last)",
      "Cell \u001b[0;32mIn [11], line 83\u001b[0m\n\u001b[1;32m     74\u001b[0m model\u001b[39m.\u001b[39mfit(\n\u001b[1;32m     75\u001b[0m     interactions\u001b[39m=\u001b[39mtrain_set[[\u001b[39m\"\u001b[39m\u001b[39muser\u001b[39m\u001b[39m\"\u001b[39m, \u001b[39m\"\u001b[39m\u001b[39misbn\u001b[39m\u001b[39m\"\u001b[39m]],\n\u001b[1;32m     76\u001b[0m     user_features\u001b[39m=\u001b[39mtrain_user_features,\n\u001b[0;32m   (...)\u001b[0m\n\u001b[1;32m     79\u001b[0m     epochs \u001b[39m=\u001b[39m \u001b[39m15\u001b[39m\n\u001b[1;32m     80\u001b[0m )\n\u001b[1;32m     82\u001b[0m \u001b[39mprint\u001b[39m(\u001b[39m\"\u001b[39m\u001b[39mvalidating...\u001b[39m\u001b[39m\"\u001b[39m)\n\u001b[0;32m---> 83\u001b[0m \u001b[39mprint\u001b[39m(\u001b[39m\"\u001b[39m\u001b[39mncdg:\u001b[39m\u001b[39m\"\u001b[39m,rank_at_k(model\u001b[39m=\u001b[39;49mmodel, test_set\u001b[39m=\u001b[39;49mtest_set, k\u001b[39m=\u001b[39;49m\u001b[39m10\u001b[39;49m))\n\u001b[1;32m     84\u001b[0m cont \u001b[39m=\u001b[39m \u001b[39mFalse\u001b[39;00m\n",
      "Cell \u001b[0;32mIn [11], line 36\u001b[0m, in \u001b[0;36mrank_at_k\u001b[0;34m(model, test_set, k)\u001b[0m\n\u001b[1;32m     33\u001b[0m idcg \u001b[39m=\u001b[39m \u001b[39m0\u001b[39m\n\u001b[1;32m     34\u001b[0m tpcount \u001b[39m=\u001b[39m \u001b[39m0\u001b[39m\n\u001b[0;32m---> 36\u001b[0m \u001b[39mfor\u001b[39;00m ind, b \u001b[39min\u001b[39;00m recommended_books:\n\u001b[1;32m     37\u001b[0m     \u001b[39mfor\u001b[39;00m r \u001b[39min\u001b[39;00m gt_books:\n\u001b[1;32m     38\u001b[0m         \u001b[39mif\u001b[39;00m r \u001b[39m==\u001b[39m b:\n",
      "\u001b[0;31mValueError\u001b[0m: too many values to unpack (expected 2)"
     ]
    }
   ],
   "source": [
    "import math\n",
    "import os\n",
    "import pickle\n",
    "\n",
    "min_10_r_per_u = ratings.groupby('user').filter(lambda r: r['rating'].count() >= 10)[[\"user\", \"isbn\", \"rating\"]]\n",
    "min_10_r_per_u = min_10_r_per_u.reset_index()\n",
    "\n",
    "model = RankFM(factors=50, loss='warp', max_samples=100, alpha=0.01, sigma=0.1, learning_rate=0.10, learning_schedule='invscaling')\n",
    "stratified_kfold = StratifiedKFold(n_splits=2)\n",
    "\n",
    "all_precisions = []\n",
    "all_recalls = []\n",
    "\n",
    "\n",
    "def rank_at_k(model: RankFM, test_set: DataFrame, k=10):\n",
    "    \"\"\"\n",
    "    Calculates mean recall at k recommendations.\n",
    "\n",
    "    -- Important Definitions --\n",
    "    False Negatives: Not Recommended but should have, bc has good rating or implicit fb\n",
    "    \"\"\"\n",
    "    test_set = test_set.groupby('user').apply(good_ratings_and_implicit_filter).reset_index(drop=True)\n",
    "    interactions_per_user = test_set.groupby('user')['isbn'].apply(set)\n",
    "    test_users = test_set['user'].unique()\n",
    "    recs: DataFrame = model.recommend(users=test_users, n_items=k,filter_previous=True, cold_start='nan')\n",
    "    user_in_recs = recs.index.values\n",
    "\n",
    "    totalndcg = []\n",
    "    for user in user_in_recs:\n",
    "        recommended_books = set(recs.loc[user])\n",
    "        gt_books = interactions_per_user[user]\n",
    "\n",
    "        dcg = 0\n",
    "        idcg = 0\n",
    "        tpcount = 0\n",
    "\n",
    "        for ind, b in enumerate(recommended_books):\n",
    "            for r in gt_books:\n",
    "                if r == b:\n",
    "                    tpcount += 1\n",
    "                    if(ind >= 2):\n",
    "                        dcg += 1/math.log2(ind)\n",
    "        for ind in range(1, tpcount):\n",
    "            idcg += 1/math.log2(ind+1)\n",
    "        \n",
    "        if(tpcount>0):\n",
    "            idcg += 1\n",
    "            totalndcg.append(dcg/idcg)\n",
    "    \n",
    "    return np.mean(totalndcg)\n",
    "\n",
    "cont = True\n",
    "\n",
    "print(f\"Fold {i}:\")\n",
    "train_set = min_10_r_per_u.iloc[train_index]\n",
    "test_set = min_10_r_per_u.iloc[test_index]\n",
    "\n",
    "train_user_features = user_features[user_features[\"User-ID\"].isin(train_set['user'])]\n",
    "train_user_features.loc[:,\"Age\"] /= train_user_features[\"Age\"].max()\n",
    "train_book_features = book_features[book_features[\"ISBN\"].isin(train_set['isbn'])]\n",
    "train_book_features.loc[:,\"bf_1\"] /= train_book_features['bf_1'].max()\n",
    "\n",
    "weights =[]\n",
    "\n",
    "for i, row in train_set.iterrows():\n",
    "    if row.rating == 0:\n",
    "        weights.append(1)\n",
    "    elif row.rating >= mean_rating_per_user.loc[row.user].item():\n",
    "        weights.append(1)\n",
    "    else:\n",
    "        weights.append(0)\n",
    "\n",
    "print(\"fitting...\")\n",
    "model = pickle.load(open(\"../backend/app/recommender/lab2_all_ratings_with_binary_weights\"))\n",
    "\n",
    "print(\"validating...\")\n",
    "print(\"ncdg:\",rank_at_k(model=model, test_set=min_10_r_per_u, k=10))"
   ]
  }
 ],
 "metadata": {
  "kernelspec": {
   "display_name": "Python 3",
   "language": "python",
   "name": "python3"
  },
  "language_info": {
   "codemirror_mode": {
    "name": "ipython",
    "version": 3
   },
   "file_extension": ".py",
   "mimetype": "text/x-python",
   "name": "python",
   "nbconvert_exporter": "python",
   "pygments_lexer": "ipython3",
   "version": "3.8.10"
  },
  "orig_nbformat": 4,
  "vscode": {
   "interpreter": {
    "hash": "916dbcbb3f70747c44a77c7bcd40155683ae19c65e1c03b4aa3499c5328201f1"
   }
  }
 },
 "nbformat": 4,
 "nbformat_minor": 2
}
